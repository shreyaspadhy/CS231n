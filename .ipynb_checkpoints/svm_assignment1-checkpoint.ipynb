{
 "cells": [
  {
   "cell_type": "code",
   "execution_count": 1,
   "metadata": {
    "collapsed": true
   },
   "outputs": [],
   "source": [
    "import random\n",
    "import numpy as np\n",
    "import matplotlib.pyplot as plt\n",
    "from cs231n.data_utils import load_CIFAR10\n",
    "\n",
    "%matplotlib inline\n",
    "plt.rcParams['figure.figsize'] = (10.0, 8.0) # set default size of plots\n",
    "plt.rcParams['image.interpolation'] = 'nearest'\n",
    "plt.rcParams['image.cmap'] = 'gray'\n",
    "\n",
    "# Some more magic so that the notebook will reload external python modules;\n",
    "# see http://stackoverflow.com/questions/1907993/autoreload-of-modules-in-ipython\n",
    "%load_ext autoreload\n",
    "%autoreload 2"
   ]
  },
  {
   "cell_type": "code",
   "execution_count": 4,
   "metadata": {
    "collapsed": false
   },
   "outputs": [
    {
     "name": "stdout",
     "output_type": "stream",
     "text": [
      "('Training Data:', (50000L, 32L, 32L, 3L))\n",
      "('Training Labels:', (50000L,))\n",
      "('Testing Data:', (10000L, 32L, 32L, 3L))\n",
      "('Testing Labels:', (10000L,))\n"
     ]
    }
   ],
   "source": [
    "cifar_dir = 'cs231n/datasets/cifar-10-batches-py'\n",
    "X_train, y_train, X_test, y_test = load_CIFAR10(cifar_dir)\n",
    "\n",
    "print('Training Data:', X_train.shape)\n",
    "print('Training Labels:', y_train.shape)\n",
    "print('Testing Data:', X_test.shape)\n",
    "print('Testing Labels:', y_test.shape)"
   ]
  },
  {
   "cell_type": "code",
   "execution_count": 10,
   "metadata": {
    "collapsed": false
   },
   "outputs": [
    {
     "name": "stdout",
     "output_type": "stream",
     "text": [
      "('Train data shape: ', (49000L, 32L, 32L, 3L))\n",
      "('Train labels shape: ', (49000L,))\n",
      "('Validation data shape: ', (0L, 32L, 32L, 3L))\n",
      "('Validation labels shape: ', (0L,))\n",
      "('Test data shape: ', (4000L, 32L, 32L, 3L))\n",
      "('Test labels shape: ', (4000L,))\n",
      "('Development data shape: ', (100L, 32L, 32L, 3L))\n",
      "('Development labels shape: ', (100L,))\n"
     ]
    }
   ],
   "source": [
    "num_training = 49000\n",
    "num_validation = 1000\n",
    "num_test = 1000\n",
    "num_dev = 100\n",
    "\n",
    "#Validation Set\n",
    "X_val = X_train[num_training:num_training+num_validation]\n",
    "y_val = y_train[num_training:num_training+num_validation]\n",
    "\n",
    "#Training Set\n",
    "X_train = X_train[range(num_training)]\n",
    "y_train = y_train[range(num_training)]\n",
    "\n",
    "#Development Set\n",
    "mask = np.random.choice(num_training, num_dev, replace=False)\n",
    "X_dev = X_train[mask]\n",
    "y_dev = y_train[mask]\n",
    "\n",
    "#Testing Set\n",
    "X_test = X_test[range(num_test)]\n",
    "y_test = y_test[range(num_test)]\n",
    "\n",
    "print('Train data shape: ', X_train.shape)\n",
    "print('Train labels shape: ', y_train.shape)\n",
    "print('Validation data shape: ', X_val.shape)\n",
    "print('Validation labels shape: ', y_val.shape)\n",
    "print('Test data shape: ', X_test.shape)\n",
    "print('Test labels shape: ', y_test.shape)\n",
    "print('Development data shape: ', X_dev.shape)\n",
    "print('Development labels shape: ', y_dev.shape)"
   ]
  }
 ],
 "metadata": {
  "kernelspec": {
   "display_name": "Python 2",
   "language": "python",
   "name": "python2"
  },
  "language_info": {
   "codemirror_mode": {
    "name": "ipython",
    "version": 2
   },
   "file_extension": ".py",
   "mimetype": "text/x-python",
   "name": "python",
   "nbconvert_exporter": "python",
   "pygments_lexer": "ipython2",
   "version": "2.7.13"
  }
 },
 "nbformat": 4,
 "nbformat_minor": 2
}
