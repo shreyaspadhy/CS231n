{
 "cells": [
  {
   "cell_type": "code",
   "execution_count": 31,
   "metadata": {
    "collapsed": true
   },
   "outputs": [],
   "source": [
    "import random\n",
    "import numpy as np\n",
    "from cs231n.data_utils import load_CIFAR10\n",
    "import matplotlib.pyplot as plt\n",
    "import pickle\n",
    "from scipy.stats import mode\n",
    "import time\n",
    "\n",
    "# This is a bit of magic to make matplotlib figures appear inline in the notebook\n",
    "# rather than in a new window.\n",
    "%matplotlib inline\n",
    "plt.rcParams['figure.figsize'] = (10.0, 8.0) # set default size of plots\n",
    "plt.rcParams['image.interpolation'] = 'nearest'\n",
    "plt.rcParams['image.cmap'] = 'gray'\n",
    "\n",
    "# Some more magic so that the notebook will reload external python modules;\n",
    "# see http://stackoverflow.com/questions/1907993/autoreload-of-modules-in-ipython\n",
    "%load_ext autoreload\n",
    "%autoreload 2"
   ]
  },
  {
   "cell_type": "code",
   "execution_count": null,
   "metadata": {
    "collapsed": true
   },
   "outputs": [],
   "source": [
    "####### CLASSIFIER CLASS #############################\n",
    "\n",
    "class knearest(object):\n",
    "\t\"\"\"docstring for knearest\"\"\"\n",
    "\tdef __init__(self):\n",
    "\t\tpass\n",
    "\n",
    "\tdef train(self, X, y):\n",
    "\t\tself.X_train = X\n",
    "\t\tself.y_train = y\n",
    "\n",
    "\tdef predict(self, X, k=1, num_loops = 0):\n",
    "\t\tif num_loops == 0:\n",
    "\t\t\tdists = self.compute_dists_no_loop(X)\n",
    "\t\telif num_loops == 1:\n",
    "\t\t\tdists = self.compute_dists_one_loop(X)\n",
    "\t\telif num_loops == 2:\n",
    "\t\t\tdists = self.compute_dists_two_loops(X)\n",
    "\n",
    "\t\treturn self.predict_labels(dists, k=k)\n",
    "\n",
    "\tdef compute_dists_two_loops(self, X):\n",
    "\t\tnum_train = self.X_train.shape[0]\n",
    "\t\tnum_test = X.shape[0]\n",
    "\t\tdists = np.zeros((num_test, num_train))\n",
    "\t\tfor j in range(self.X_train.shape[0]):\n",
    "\t\t\tfor i in range(X.shape[0]):\n",
    "\t\t\t\tdists[i][j] = (np.sum((self.X_train[j] - X[i])**2))\n",
    "\n",
    "\t\treturn dists\n",
    "\n",
    "\tdef compute_dists_one_loop(self, X):\n",
    "\t\tnum_train = self.X_train.shape[0]\n",
    "\t\tnum_test = X.shape[0]\n",
    "\t\tdists = np.zeros((num_test, num_train))\n",
    "\n",
    "\t\tfor i in range(num_test):\n",
    "\t\t\tdists[i,:] = np.sum((X[i,:] - self.X_train)**2, axis=1)\n",
    "\n",
    "\t\treturn dists\n",
    "\n",
    "\tdef compute_dists_no_loop(self, X):\n",
    "\t\tF = np.sum(self.X_train**2, axis = 1)\n",
    "\t\tG = np.sum(X**2, axis = 1)\n",
    "\t\tdists = np.zeros((X.shape[0], self.X_train.shape[0]))\n",
    "\t\t#print(G)\n",
    "\t\tF = np.tile(F.T, (X.shape[0],1))\n",
    "\t\tG = np.tile(G.T, (self.X_train.shape[0],1)).T\n",
    "\n",
    "\t\t#print(\"G : \", G.shape)\n",
    "\t\t#print(\"F : \", F.shape)\n",
    "\t\tdists = F + G - 2*np.dot(X, self.X_train.T)\n",
    "\n",
    "\t\treturn dists\n",
    "\n",
    "\tdef predict_labels(self, dists, k=1):\n",
    "\t\tnum_test = dists.shape[0]\n",
    "\n",
    "\t\ty_test = np.zeros(num_test)\n",
    "\t\tdist_sorted_arg = np.argsort(dists)\n",
    "\t\tclasses_array = np.zeros(k)\n",
    "\t\tfor i in range(num_test):\n",
    "\t\t\tfor j in range(k):\n",
    "\t\t\t\t#print('ERR \" ', dist_sorted_arg[i][j])\n",
    "\t\t\t\tclasses_array[j] = self.y_train[dist_sorted_arg[i][j]]\n",
    "\n",
    "\t\t\ty_test[i] = mode(classes_array)[0][0]\n",
    "\n",
    "\t\treturn y_test\n",
    "\n",
    "####### CLASSIFIER CLASS ##############################"
   ]
  },
  {
   "cell_type": "code",
   "execution_count": 6,
   "metadata": {
    "collapsed": false
   },
   "outputs": [
    {
     "name": "stdout",
     "output_type": "stream",
     "text": [
      "('Training data shape: ', (50000, 32, 32, 3))\n",
      "('Training labels shape: ', (50000,))\n",
      "('Testing data shape: ', (10000, 32, 32, 3))\n",
      "('Testing labels shape: ', (10000,))\n"
     ]
    }
   ],
   "source": [
    "cifar10_dir = 'cs231n/datasets/cifar-10-batches-py'\n",
    "X_train, y_train, X_test, y_test = load_CIFAR10(cifar10_dir)\n",
    "\n",
    "print('Training data shape: ', X_train.shape)\n",
    "print('Training labels shape: ', y_train.shape)\n",
    "print('Testing data shape: ', X_test.shape)\n",
    "print('Testing labels shape: ', y_test.shape)\n",
    "\n",
    "######################################################\n",
    "# classes = ['plane', 'car', 'cat', 'deer']\n",
    "# num_classes = len(classes)\n",
    "# samples_per_class = 5\n",
    "# for y, cls in enumerate(classes):\n",
    "# \tids = np.flatnonzero(y_train == y)\n",
    "# \tids = np.random.choice(ids, samples_per_class, replace=False)\n",
    "\n",
    "# \tfor i, idxs in enumerate(ids):\n",
    "# \t\tplt_idx = i*num_classes+y+1\n",
    "# \t\tplt.subplot(samples_per_class, num_classes, plt_idx)\n",
    "# \t\tplt.imshow(X_train[idxs].astype('uint8'))\n",
    "# \t\tplt.axis('off')\n",
    "# \t\tif i == 0:\n",
    "# \t\t\tplt.title(cls)\n",
    "\n",
    "# plt.show()\n",
    "#######################################################"
   ]
  },
  {
   "cell_type": "code",
   "execution_count": 8,
   "metadata": {
    "collapsed": false
   },
   "outputs": [
    {
     "name": "stdout",
     "output_type": "stream",
     "text": [
      "((5000, 3072), (500, 3072))\n",
      "('Two loops takes ', 28.696277856826782)\n",
      "('One loop takes ', 114.78560209274292)\n",
      "('Zeroloops takes ', 0.5893490314483643)\n"
     ]
    }
   ],
   "source": [
    "num_training = 5000\n",
    "num_test = 500\n",
    "\n",
    "X_train = X_train[0:num_training]\n",
    "y_train = y_train[0:num_training]\n",
    "\n",
    "X_test = X_test[0:num_test]\n",
    "y_test = y_test[0:num_test]\n",
    "\n",
    "X_train = np.reshape(X_train, (X_train.shape[0], -1))\n",
    "X_test = np.reshape(X_test, (X_test.shape[0], -1))\n",
    "\n",
    "print(X_train.shape, X_test.shape)\n",
    "\n",
    "classifier = knearest()\n",
    "classifier.train(X_train, y_train)\n",
    "\n",
    "Generate_Dists = True\n",
    "\n",
    "if Generate_Dists:\n",
    "\ty_pred = classifier.predict(X_test, 5, 2)\n",
    "\tstart = time.time()\n",
    "\tdists = classifier.compute_dists_two_loops(X_test)\n",
    "\tend = time.time()\n",
    "\tprint(\"Two loops takes \", end - start)\n",
    "\ty_pred_one = classifier.predict(X_test, 5, 1)\n",
    "\tdists_one = classifier.compute_dists_one_loop(X_test)\n",
    "\tend2 = time.time()\n",
    "\tprint(\"One loop takes \", end2 - end)\n",
    "\ty_pred_zero = classifier.predict(X_test, 5, 0)\n",
    "\tdists_zero = classifier.compute_dists_no_loop(X_test)\n",
    "\tend3 = time.time()\n",
    "\tprint(\"Zeroloops takes \", end3 - end2)\n",
    "\tpickle.dump(dists, open('dists.p', 'wb'))\n",
    "\tpickle.dump(y_pred, open('y_pred_two_loops.p', 'wb'))\n",
    "\tpickle.dump(dists_one, open('dists_one.p', 'wb'))\n",
    "\tpickle.dump(y_pred_one, open('y_pred_one_loops.p', 'wb'))\n",
    "\tpickle.dump(dists_zero, open('dists_zero.p', 'wb'))\n",
    "\tpickle.dump(y_pred_zero, open('y_pred_zero_loops.p', 'wb'))\n",
    "else:\n",
    "\tdists = pickle.load(open('dists.p', 'rb'))\n",
    "\ty_pred = pickle.load(open('y_pred_two_loops.p', 'rb'))\n",
    "\tdists_one = pickle.load(open('dists_one.p', 'rb'))\n",
    "\ty_pred_one = pickle.load(open('y_pred_one_loops.p', 'rb'))\n",
    "\tdists_zero = pickle.load(open('dists_zero.p', 'rb'))\n",
    "\ty_pred_zero = pickle.load(open('y_pred_zero_loops.p', 'rb'))\n",
    "\n",
    "\n",
    "# print(y_pred.shape)\n",
    "# print(dists.shape)\n",
    "\n",
    "# plt.subplot(3,1,1)\n",
    "# plt.imshow(dists_zero, interpolation='none')\n",
    "# plt.subplot(3,1,2)\n",
    "# plt.imshow(dists_one, interpolation='none')\n",
    "# plt.subplot(3,1,3)\n",
    "# plt.imshow(dists, interpolation='none')\n",
    "# plt.show()\n",
    "\n",
    "# num_correct = np.sum(y_pred == y_test)\n",
    "# accuracy = float(num_correct) / y_test.shape[0]\n",
    "\n",
    "# print(\"Accuracy : \", accuracy)\n",
    "# print(\"Got %d / %d correct\" % (num_correct, num_test))"
   ]
  },
  {
   "cell_type": "code",
   "execution_count": null,
   "metadata": {
    "collapsed": true
   },
   "outputs": [],
   "source": [
    "num_folds = 5\n",
    "k_choices = [1,3,5,8,10,12,15,20,50,100]\n",
    "\n",
    "\n",
    "X_train_folds = np.array_split(X_train, num_folds)\n",
    "y_train_folds = np.array_split(y_train, num_folds)\n",
    "\n",
    "print(y_train_folds[0].shape)\n",
    "\n",
    "k_to_accuracies = {}\n",
    "\n",
    "for k in k_choices:\n",
    "    acc = []\n",
    "    for i in range(num_folds):\n",
    "        classifier = knearest()\n",
    "        X_train_cv = np.concatenate([arr for j, arr in enumerate(X_train_folds) if j != i])\n",
    "        y_train_cv = np.concatenate([arr for j, arr in enumerate(y_train_folds) if j != i])\n",
    "\n",
    "        X_test_cv = X_train_folds[i]\n",
    "        y_test_cv = y_train_folds[i]\n",
    "\n",
    "        #print(i, X_train_cv.shape, y_train_cv.shape)\n",
    "        #print(i, X_test_cv.shape, y_test_cv.shape)\n",
    "        \n",
    "        classifier.train(X_train_cv, y_train_cv)\n",
    "        y_pred_cv = classifier.predict(X_test_cv, k, 0)\n",
    "\n",
    "        num_correct = np.sum(y_pred_cv == y_test_cv)\n",
    "        print(k, num_correct)\n",
    "        \n",
    "        acc.append(float(num_correct)/y_test_cv.shape[0])\n",
    "    k_to_accuracies[k] = acc"
   ]
  },
  {
   "cell_type": "code",
   "execution_count": 28,
   "metadata": {
    "collapsed": false
   },
   "outputs": [
    {
     "name": "stdout",
     "output_type": "stream",
     "text": [
      "k = 1, accuracy = 0.263000\n",
      "k = 1, accuracy = 0.257000\n",
      "k = 1, accuracy = 0.264000\n",
      "k = 1, accuracy = 0.278000\n",
      "k = 1, accuracy = 0.266000\n",
      "k = 3, accuracy = 0.239000\n",
      "k = 3, accuracy = 0.249000\n",
      "k = 3, accuracy = 0.240000\n",
      "k = 3, accuracy = 0.266000\n",
      "k = 3, accuracy = 0.254000\n",
      "k = 5, accuracy = 0.248000\n",
      "k = 5, accuracy = 0.266000\n",
      "k = 5, accuracy = 0.280000\n",
      "k = 5, accuracy = 0.292000\n",
      "k = 5, accuracy = 0.280000\n",
      "k = 8, accuracy = 0.262000\n",
      "k = 8, accuracy = 0.282000\n",
      "k = 8, accuracy = 0.273000\n",
      "k = 8, accuracy = 0.290000\n",
      "k = 8, accuracy = 0.273000\n",
      "k = 10, accuracy = 0.265000\n",
      "k = 10, accuracy = 0.296000\n",
      "k = 10, accuracy = 0.276000\n",
      "k = 10, accuracy = 0.284000\n",
      "k = 10, accuracy = 0.280000\n",
      "k = 12, accuracy = 0.260000\n",
      "k = 12, accuracy = 0.295000\n",
      "k = 12, accuracy = 0.279000\n",
      "k = 12, accuracy = 0.283000\n",
      "k = 12, accuracy = 0.280000\n",
      "k = 15, accuracy = 0.252000\n",
      "k = 15, accuracy = 0.289000\n",
      "k = 15, accuracy = 0.278000\n",
      "k = 15, accuracy = 0.282000\n",
      "k = 15, accuracy = 0.274000\n",
      "k = 20, accuracy = 0.270000\n",
      "k = 20, accuracy = 0.279000\n",
      "k = 20, accuracy = 0.279000\n",
      "k = 20, accuracy = 0.282000\n",
      "k = 20, accuracy = 0.285000\n",
      "k = 50, accuracy = 0.271000\n",
      "k = 50, accuracy = 0.288000\n",
      "k = 50, accuracy = 0.278000\n",
      "k = 50, accuracy = 0.269000\n",
      "k = 50, accuracy = 0.266000\n",
      "k = 100, accuracy = 0.256000\n",
      "k = 100, accuracy = 0.270000\n",
      "k = 100, accuracy = 0.263000\n",
      "k = 100, accuracy = 0.256000\n",
      "k = 100, accuracy = 0.263000\n"
     ]
    }
   ],
   "source": [
    "for k in sorted(k_to_accuracies):\n",
    "    for accuracy in k_to_accuracies[k]:\n",
    "        print ('k = %d, accuracy = %f' % (int(k), accuracy))"
   ]
  },
  {
   "cell_type": "code",
   "execution_count": 34,
   "metadata": {
    "collapsed": false
   },
   "outputs": [
    {
     "name": "stdout",
     "output_type": "stream",
     "text": [
      "[1, 3, 5, 8, 10, 12, 15, 20, 50, 100]\n",
      "[ 0.2656  0.2496  0.2732  0.276   0.2802  0.2794  0.275   0.279   0.2744\n",
      "  0.2616]\n",
      "[ 0.00688767  0.00993177  0.01505191  0.00944458  0.01012719  0.01125344\n",
      "  0.01252198  0.00501996  0.00786384  0.00523832]\n"
     ]
    },
    {
     "data": {
      "image/png": "[encoded data removed]",
      "text/plain": [
       "<matplotlib.figure.Figure at 0x7fe041e886d0>"
      ]
     },
     "metadata": {},
     "output_type": "display_data"
    }
   ],
   "source": [
    "acc_means = np.array([np.mean(v) for k,v in sorted(k_to_accuracies.items())])\n",
    "acc_stds = np.array([np.std(v) for k, v in sorted(k_to_accuracies.items())])\n",
    "\n",
    "print(k_choices)\n",
    "print(acc_means)\n",
    "print(acc_stds)\n",
    "plt.errorbar(k_choices, acc_means, yerr = acc_stds)\n",
    "plt.title('Cross Validation with k')\n",
    "plt.xlabel('k')\n",
    "plt.ylabel('Cross-Validation accuracy')\n",
    "plt.show()"
   ]
  }
 ],
 "metadata": {
  "kernelspec": {
   "display_name": "Python 2",
   "language": "python",
   "name": "python2"
  },
  "language_info": {
   "codemirror_mode": {
    "name": "ipython",
    "version": 2
   },
   "file_extension": ".py",
   "mimetype": "text/x-python",
   "name": "python",
   "nbconvert_exporter": "python",
   "pygments_lexer": "ipython2",
   "version": "2.7.12"
  }
 },
 "nbformat": 4,
 "nbformat_minor": 0
}
