{
 "cells": [
  {
   "cell_type": "markdown",
   "metadata": {},
   "source": [
    "# Implementing a Neural Network\n",
    "In this exercise we will develop a neural network with fully-connected layers to perform classification, and test it out on the CIFAR-10 dataset.\n",
    "\n",
    "### Babysitting Training\n",
    "\n",
    "1. Overfit on very small data\n",
    "2. Loss not going down\n",
    "    - Learning Rate must be low\n",
    "    - Very high learning rate is usually NaN cost\n",
    "3. If cost is ever > 3*initial cost, break out early.\n",
    "4. Coarse to fine hyperparameter search.\n",
    "5. Random Search is always better than grid search.\n",
    "6. Large difference in training and validation accuracy = **overfitting**\n",
    "7. Track ratios of weight update/weight magnitudes\n",
    "    - Around 0.001 is a good ratio"
   ]
  },
  {
   "cell_type": "code",
   "execution_count": 4,
   "metadata": {},
   "outputs": [
    {
     "name": "stdout",
     "output_type": "stream",
     "text": [
      "The autoreload extension is already loaded. To reload it, use:\n",
      "  %reload_ext autoreload\n"
     ]
    }
   ],
   "source": [
    "import numpy as np\n",
    "import matplotlib.pyplot as plt\n",
    "\n",
    "# from cs231n.classifiers.neural_net import TwoLayerNet\n",
    "\n",
    "from __future__ import print_function\n",
    "\n",
    "%matplotlib inline\n",
    "plt.rcParams['figure.figsize'] = (10.0, 8.0) # set default size of plots\n",
    "plt.rcParams['image.interpolation'] = 'nearest'\n",
    "plt.rcParams['image.cmap'] = 'gray'\n",
    "\n",
    "# for auto-reloading external modules\n",
    "# see http://stackoverflow.com/questions/1907993/autoreload-of-modules-in-ipython\n",
    "%load_ext autoreload\n",
    "%autoreload 2"
   ]
  },
  {
   "cell_type": "code",
   "execution_count": 5,
   "metadata": {
    "collapsed": true
   },
   "outputs": [],
   "source": [
    "from cs231n.data_utils import load_CIFAR10\n",
    "\n",
    "    # Load the raw CIFAR-10 data\n",
    "cifar10_dir = 'cs231n/datasets/cifar-10-batches-py'"
   ]
  },
  {
   "cell_type": "code",
   "execution_count": 6,
   "metadata": {},
   "outputs": [
    {
     "name": "stdout",
     "output_type": "stream",
     "text": [
      "Train data shape:  (49000, 3072)\n",
      "Train labels shape:  (49000,)\n",
      "Validation data shape:  (1000, 3072)\n",
      "Validation labels shape:  (1000,)\n",
      "Test data shape:  (1000, 3072)\n",
      "Test labels shape:  (1000,)\n"
     ]
    }
   ],
   "source": [
    "from cs231n.data_utils import load_CIFAR10\n",
    "\n",
    "def get_CIFAR10_data(num_training=49000, num_validation=1000, num_test=1000):\n",
    "    \"\"\"\n",
    "    Load the CIFAR-10 dataset from disk and perform preprocessing to prepare\n",
    "    it for the two-layer neural net classifier. These are the same steps as\n",
    "    we used for the SVM, but condensed to a single function.  \n",
    "    \"\"\"\n",
    "    # Load the raw CIFAR-10 data\n",
    "    cifar10_dir = 'cs231n/datasets/cifar-10-batches-py'\n",
    "    X_train, y_train, X_test, y_test = load_CIFAR10(cifar10_dir)\n",
    "        \n",
    "    # Subsample the data\n",
    "    mask = list(range(num_training, num_training + num_validation))\n",
    "    X_val = X_train[mask]\n",
    "    y_val = y_train[mask]\n",
    "    mask = list(range(num_training))\n",
    "    X_train = X_train[mask]\n",
    "    y_train = y_train[mask]\n",
    "    mask = list(range(num_test))\n",
    "    X_test = X_test[mask]\n",
    "    y_test = y_test[mask]\n",
    "\n",
    "    # Normalize the data: subtract the mean image\n",
    "    mean_image = np.mean(X_train, axis=0)\n",
    "    X_train -= mean_image\n",
    "    X_val -= mean_image\n",
    "    X_test -= mean_image\n",
    "\n",
    "    # Reshape data to rows\n",
    "    X_train = X_train.reshape(num_training, -1)\n",
    "    X_val = X_val.reshape(num_validation, -1)\n",
    "    X_test = X_test.reshape(num_test, -1)\n",
    "\n",
    "    return X_train, y_train, X_val, y_val, X_test, y_test\n",
    "\n",
    "\n",
    "# Invoke the above function to get our data.\n",
    "X_train, y_train, X_val, y_val, X_test, y_test = get_CIFAR10_data()\n",
    "print('Train data shape: ', X_train.shape)\n",
    "print('Train labels shape: ', y_train.shape)\n",
    "print('Validation data shape: ', X_val.shape)\n",
    "print('Validation labels shape: ', y_val.shape)\n",
    "print('Test data shape: ', X_test.shape)\n",
    "print('Test labels shape: ', y_test.shape)"
   ]
  },
  {
   "cell_type": "code",
   "execution_count": 12,
   "metadata": {},
   "outputs": [
    {
     "name": "stdout",
     "output_type": "stream",
     "text": [
      "In the 1th iteration, loss : 176.853645\n",
      "In the 11th iteration, loss : 218.765800\n",
      "In the 21th iteration, loss : 116.722197\n",
      "In the 31th iteration, loss : 112.086983\n",
      "In the 41th iteration, loss : 90.681610\n",
      "In the 51th iteration, loss : 89.931758\n",
      "In the 61th iteration, loss : 66.552978\n",
      "In the 71th iteration, loss : 64.587511\n",
      "In the 81th iteration, loss : 60.801729\n",
      "In the 91th iteration, loss : 52.725108\n"
     ]
    },
    {
     "name": "stderr",
     "output_type": "stream",
     "text": [
      "Functions/classifiers.py:232: RuntimeWarning: divide by zero encountered in log\n",
      "  loss = (- np.sum(np.log(expfy))) / X.shape[0]\n"
     ]
    },
    {
     "name": "stdout",
     "output_type": "stream",
     "text": [
      "In the 101th iteration, loss : 44.307454\n",
      "In the 111th iteration, loss : 43.852887\n",
      "In the 121th iteration, loss : 37.192822\n",
      "In the 131th iteration, loss : 42.315814\n",
      "In the 141th iteration, loss : 38.761599\n",
      "In the 151th iteration, loss : 31.538834\n",
      "In the 161th iteration, loss : 29.486593\n",
      "In the 171th iteration, loss : 28.440400\n",
      "In the 181th iteration, loss : 26.233926\n",
      "In the 191th iteration, loss : 23.566439\n",
      "In the 201th iteration, loss : 22.706628\n",
      "In the 211th iteration, loss : 20.875978\n",
      "In the 221th iteration, loss : 19.353643\n",
      "In the 231th iteration, loss : 18.503162\n",
      "In the 241th iteration, loss : 18.283325\n",
      "In the 251th iteration, loss : 16.718199\n",
      "In the 261th iteration, loss : 15.386514\n",
      "In the 271th iteration, loss : 14.962014\n",
      "In the 281th iteration, loss : 14.326262\n",
      "In the 291th iteration, loss : 14.103403\n",
      "In the 301th iteration, loss : 13.129803\n",
      "In the 311th iteration, loss : 12.580491\n",
      "In the 321th iteration, loss : 12.079309\n",
      "In the 331th iteration, loss : 11.440547\n",
      "In the 341th iteration, loss : 10.788524\n",
      "In the 351th iteration, loss : 10.256247\n",
      "In the 361th iteration, loss : 10.124942\n",
      "In the 371th iteration, loss : 9.511914\n",
      "In the 381th iteration, loss : 9.169270\n",
      "In the 391th iteration, loss : 8.790690\n",
      "In the 401th iteration, loss : 8.599633\n",
      "In the 411th iteration, loss : 8.125858\n",
      "In the 421th iteration, loss : 7.801042\n",
      "In the 431th iteration, loss : 7.561177\n",
      "In the 441th iteration, loss : 7.248173\n",
      "In the 451th iteration, loss : 6.933648\n",
      "In the 461th iteration, loss : 6.795590\n",
      "In the 471th iteration, loss : 6.498289\n",
      "In the 481th iteration, loss : 6.149503\n",
      "In the 491th iteration, loss : 6.188833\n",
      "In the 501th iteration, loss : 5.959384\n",
      "In the 511th iteration, loss : 5.531997\n",
      "In the 521th iteration, loss : 5.553096\n",
      "In the 531th iteration, loss : 5.421677\n",
      "In the 541th iteration, loss : 5.201424\n",
      "In the 551th iteration, loss : 4.913998\n",
      "In the 561th iteration, loss : 4.820530\n",
      "In the 571th iteration, loss : 4.948570\n",
      "In the 581th iteration, loss : 4.796383\n",
      "In the 591th iteration, loss : 4.512995\n",
      "In the 601th iteration, loss : 4.264082\n",
      "In the 611th iteration, loss : 4.335745\n",
      "In the 621th iteration, loss : 4.092151\n",
      "In the 631th iteration, loss : 3.917435\n",
      "In the 641th iteration, loss : 3.805884\n",
      "In the 651th iteration, loss : 3.821791\n",
      "In the 661th iteration, loss : 3.652338\n",
      "In the 671th iteration, loss : 3.479099\n",
      "In the 681th iteration, loss : 3.603917\n",
      "In the 691th iteration, loss : 3.373255\n",
      "In the 701th iteration, loss : 3.427173\n",
      "In the 711th iteration, loss : 3.417027\n",
      "In the 721th iteration, loss : 3.350187\n",
      "In the 731th iteration, loss : 3.296132\n",
      "In the 741th iteration, loss : 3.221900\n",
      "In the 751th iteration, loss : 3.159446\n",
      "In the 761th iteration, loss : 3.157999\n",
      "In the 771th iteration, loss : 3.029666\n",
      "In the 781th iteration, loss : 3.112202\n",
      "In the 791th iteration, loss : 3.142773\n",
      "In the 801th iteration, loss : 2.832663\n",
      "In the 811th iteration, loss : 3.122700\n",
      "In the 821th iteration, loss : 2.817957\n",
      "In the 831th iteration, loss : 2.882097\n",
      "In the 841th iteration, loss : 2.660176\n",
      "In the 851th iteration, loss : 2.877917\n",
      "In the 861th iteration, loss : 2.730128\n",
      "In the 871th iteration, loss : 2.701708\n",
      "In the 881th iteration, loss : 2.662698\n",
      "In the 891th iteration, loss : 2.698715\n",
      "In the 901th iteration, loss : 2.571631\n",
      "In the 911th iteration, loss : 2.701283\n",
      "In the 921th iteration, loss : 2.779244\n",
      "In the 931th iteration, loss : 2.528204\n",
      "In the 941th iteration, loss : 2.769055\n",
      "In the 951th iteration, loss : 2.718289\n",
      "In the 961th iteration, loss : 2.818000\n",
      "In the 971th iteration, loss : 2.619856\n",
      "In the 981th iteration, loss : 2.512440\n",
      "In the 991th iteration, loss : 2.694880\n",
      "Final Loss :  2.53979414874\n"
     ]
    }
   ],
   "source": [
    "#### NEURAL NET ##########\n",
    "\n",
    "from Functions.classifiers import two_layer_net\n",
    "\n",
    "nn = two_layer_net(50, X_train.shape[1], 10)\n",
    "loss = nn.SGD(X_train, y_train, 5e-4, 1e1, 1000, 64, True)\n",
    "\n",
    "print(\"Final Loss : \", loss)"
   ]
  },
  {
   "cell_type": "code",
   "execution_count": 13,
   "metadata": {},
   "outputs": [
    {
     "name": "stdout",
     "output_type": "stream",
     "text": [
      "('Training Accuracy : ', 0.39000000000000001)\n"
     ]
    }
   ],
   "source": [
    "predicted, acc = nn.predict(X_val, y_val)"
   ]
  },
  {
   "cell_type": "markdown",
   "metadata": {},
   "source": [
    "### Hyperparameter Tuning\n",
    "\n",
    "1. Small Random Valued Initialization\n",
    "\n",
    "\n",
    "Learning Rate | Regularization | Final Loss | Acc on Val Set\n",
    "--- | --- | ---\n",
    "1e-4| 2.5e-1 | 2.027 | 0.357\n",
    "1e-4| 1e-1 | 1.944 | 0.357\n",
    "\n",
    "2. He et al 2015, unit variance outputs on RELU activations\n",
    "\n",
    "Learning Rate | Regularization | Final Loss | Acc on Val Set | Comments\n",
    "--- | --- | --- | ---\n",
    "1e-4| 2.5e-1 | 25.898 | 0.246\n",
    "1e-4| 1e-1 | 18.767 | 0.277\n",
    "2.5e-4| 1e-1 | 10.124 | 0.337\n",
    "5e-4| 1e-1 | 2.468 | 0.3589 | Cost function frequently NaN\n",
    "5e-4| 1e0 | 4.678 | 0.400 | Cost function NaN once\n",
    "5e-4| 1e1 | 2.679 | 0.373 | Cost function NaN once\n",
    "\n",
    "### To-Do\n",
    "\n",
    "1. Implement Batch Norm\n",
    "2. Make Mini-Batch Not Random, but in order (to implement epochs)"
   ]
  }
 ],
 "metadata": {
  "kernelspec": {
   "display_name": "Python 2",
   "language": "python",
   "name": "python2"
  },
  "language_info": {
   "codemirror_mode": {
    "name": "ipython",
    "version": 2
   },
   "file_extension": ".py",
   "mimetype": "text/x-python",
   "name": "python",
   "nbconvert_exporter": "python",
   "pygments_lexer": "ipython2",
   "version": "2.7.13"
  }
 },
 "nbformat": 4,
 "nbformat_minor": 2
}
